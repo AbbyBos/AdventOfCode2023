{
  "nbformat": 4,
  "nbformat_minor": 0,
  "metadata": {
    "colab": {
      "provenance": [],
      "history_visible": true,
      "authorship_tag": "ABX9TyMczSM6S03WgguwLtGClHkX",
      "include_colab_link": true
    },
    "kernelspec": {
      "name": "python3",
      "display_name": "Python 3"
    },
    "language_info": {
      "name": "python"
    }
  },
  "cells": [
    {
      "cell_type": "markdown",
      "metadata": {
        "id": "view-in-github",
        "colab_type": "text"
      },
      "source": [
        "<a href=\"https://colab.research.google.com/github/AbbyBos/AdventOfCode2023/blob/main/Day%203/Advent_of_Code_Day_3.ipynb\" target=\"_parent\"><img src=\"https://colab.research.google.com/assets/colab-badge.svg\" alt=\"Open In Colab\"/></a>"
      ]
    },
    {
      "cell_type": "code",
      "execution_count": 379,
      "metadata": {
        "colab": {
          "base_uri": "https://localhost:8080/"
        },
        "id": "kivuHLyAuf97",
        "outputId": "95819afb-c0ac-4a67-b963-7da881ee7871"
      },
      "outputs": [
        {
          "output_type": "stream",
          "name": "stdout",
          "text": [
            "Awnser 1:  529618\n",
            "Awnser 2:  77509019\n"
          ]
        }
      ],
      "source": [
        "import numpy as np\n",
        "\n",
        "#from google.colab import drive\n",
        "#drive.mount('/content/drive')\n",
        "\n",
        "with open('/content/drive/MyDrive/Advent of Code/Day3.txt', 'r') as file:\n",
        "    lines = file.readlines()\n",
        "\n",
        "my_list = [line.strip() for line in lines]\n",
        "my_list = [list(i) for i in my_list]\n",
        "my_list = np.array(my_list)\n",
        "unique_chars = np.unique(my_list)\n",
        "rows, cols = np.where((my_list == '#')|(my_list == '$')|(my_list == '%')|(my_list == '&')|(my_list == '*')|(my_list == '+')|(my_list == '-')|(my_list == '/')|(my_list == '=')|(my_list == '@'))\n",
        "coordinates = list(zip(rows, cols))\n",
        "\n",
        "extended_coordinates = []\n",
        "\n",
        "for coord in coordinates:\n",
        "    for i in range(coord[0] - 1, coord[0] + 2):\n",
        "        for j in range(coord[1] - 1, coord[1] + 2):\n",
        "            extended_coordinates.append((i, j))\n",
        "\n",
        "number = ''\n",
        "coordinate = ''\n",
        "\n",
        "stored_number = ''\n",
        "stored_coordinate = []\n",
        "\n",
        "stored_number_list = []\n",
        "stored_coordinate_list = []\n",
        "\n",
        "\n",
        "for count_rows, rows in enumerate(my_list):\n",
        "  for count_column, val in enumerate(rows):\n",
        "    try:\n",
        "      number = int(val)\n",
        "      coordinate = (count_rows, count_column)\n",
        "      stored_number = int(str(stored_number)+str(number))\n",
        "      stored_coordinate.append(coordinate)\n",
        "      if count_column == 139:\n",
        "        raise ValueError('Dit zou niet nodig moeten zijn...')\n",
        "    except:\n",
        "      if stored_number != '':\n",
        "        stored_number_list.append(stored_number)\n",
        "        stored_coordinate_list.append(stored_coordinate)\n",
        "        stored_number = ''\n",
        "        stored_coordinate = []\n",
        "\n",
        "all_numbers = list(zip(stored_number_list, stored_coordinate_list))\n",
        "\n",
        "match_list = []\n",
        "matches = ''\n",
        "\n",
        "for number in all_numbers:\n",
        "  coordinate = number[1]\n",
        "  matches = set(coordinate) & set(extended_coordinates)\n",
        "  if matches:\n",
        "    match_list.append(number[0])\n",
        "\n",
        "print('Awnser 1: ',sum(match_list))\n",
        "\n",
        "#Part 2\n",
        "rows, cols = np.where((my_list == '*'))\n",
        "gears = list(zip(rows, cols))\n",
        "gear_expanded_list = []\n",
        "\n",
        "for coord in gears:\n",
        "    gear_influence_zone = []\n",
        "    for i in range(coord[0] - 1, coord[0] + 2):\n",
        "        for j in range(coord[1] - 1, coord[1] + 2):\n",
        "          gear_influence_zone.append((i, j))\n",
        "    gear_expanded_list.append(gear_influence_zone)\n",
        "\n",
        "\n",
        "gear_expanded_matches = []\n",
        "\n",
        "for gear_number, gear in enumerate(gear_expanded_list):\n",
        "  hits = []\n",
        "  for index_number, number in enumerate(all_numbers):\n",
        "    coordinate = number[1]\n",
        "    matches = set(coordinate) & set(gear)\n",
        "    if matches != set():\n",
        "      hits.append(number[0])\n",
        "  gear_expanded_matches.append(hits)\n",
        "\n",
        "\n",
        "two_matches = []\n",
        "\n",
        "for items in gear_expanded_matches:\n",
        "  if len(items) == 2:\n",
        "    product = (items[0]*items[1])\n",
        "    two_matches.append (product)\n",
        "\n",
        "print('Awnser 2: ',sum( two_matches))\n",
        "\n",
        "\n",
        "\n",
        "\n"
      ]
    },
    {
      "cell_type": "code",
      "source": [],
      "metadata": {
        "id": "HwdqgQcr_47s"
      },
      "execution_count": null,
      "outputs": []
    }
  ]
}