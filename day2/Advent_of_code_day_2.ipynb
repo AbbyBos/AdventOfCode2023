{
  "nbformat": 4,
  "nbformat_minor": 0,
  "metadata": {
    "colab": {
      "provenance": [],
      "authorship_tag": "ABX9TyObuk87I5PGn/dkoJCrbe9G",
      "include_colab_link": true
    },
    "kernelspec": {
      "name": "python3",
      "display_name": "Python 3"
    },
    "language_info": {
      "name": "python"
    }
  },
  "cells": [
    {
      "cell_type": "markdown",
      "metadata": {
        "id": "view-in-github",
        "colab_type": "text"
      },
      "source": [
        "<a href=\"https://colab.research.google.com/github/AbbyBos/AdventOfCode2023/blob/main/day2/Advent_of_code_day_2.ipynb\" target=\"_parent\"><img src=\"https://colab.research.google.com/assets/colab-badge.svg\" alt=\"Open In Colab\"/></a>"
      ]
    },
    {
      "cell_type": "code",
      "execution_count": 126,
      "metadata": {
        "colab": {
          "base_uri": "https://localhost:8080/"
        },
        "id": "2WPW69oX4Xmv",
        "outputId": "c29fd540-d29f-4e3a-c392-92dc3918c80e"
      },
      "outputs": [
        {
          "output_type": "stream",
          "name": "stdout",
          "text": [
            "84538\n"
          ]
        }
      ],
      "source": [
        "import re\n",
        "\n",
        "#from google.colab import drive\n",
        "#drive.mount('/content/drive')\n",
        "\n",
        "with open(\"/content/drive/MyDrive/Advent of Code/Day2.txt\", \"r\") as file:\n",
        "  lines = file.readlines()\n",
        "  dirty_list = [line.strip() for line in lines]\n",
        "\n",
        "def parse_input(dirty_list):\n",
        "    games = []\n",
        "\n",
        "    for game_str in my_list:\n",
        "        # Extract game number and rounds\n",
        "        game_data = game_str.split(': ')\n",
        "        game_number = game_data[0]\n",
        "        rounds_str = game_data[1].split('; ')\n",
        "\n",
        "        # Parse each round for the game\n",
        "        rounds = []\n",
        "        for round_str in rounds_str:\n",
        "            items = round_str.split(', ')\n",
        "            round_data = {}\n",
        "            for item in items:\n",
        "                count, color = item.split(' ')\n",
        "                round_data[color] = int(count)\n",
        "            rounds.append(round_data)\n",
        "\n",
        "        # Create a dictionary for each game\n",
        "        game = {\n",
        "            'game': game_number,\n",
        "            'rounds': rounds\n",
        "        }\n",
        "\n",
        "        games.append(game)\n",
        "\n",
        "    return games\n",
        "\n",
        "def compare_max_colors_all_games(clean_list):\n",
        "#    reference_counts = {'red': 12, 'green': 13, 'blue': 14}\n",
        "#    comparison_results = []\n",
        "    max_colors_list = []\n",
        "\n",
        "    for game in clean_list:\n",
        "        max_colors = {'red': 0, 'green': 0, 'blue': 0}\n",
        "        for round_data in game['rounds']:\n",
        "            for color, count in round_data.items():\n",
        "                max_colors[color] = max(max_colors[color], count)\n",
        "        max_colors_list.append(max_colors)\n",
        "\n",
        "    return max_colors_list\n",
        "\n",
        "#        print(max_colors)\n",
        "#        print(reference_counts)\n",
        "#        comparison_result = all( reference_counts[color] >= max_colors[color] for color in reference_counts)\n",
        "#        comparison_results.append(comparison_result)\n",
        "#        print(comparison_result)\n",
        "#\n",
        "#    return comparison_results\n",
        "\n",
        "def sum_false_indexes(max_colors_all_games):\n",
        "    return sum(index + 1 for index, result in enumerate(max_colors_all_games) if result)\n",
        "\n",
        "clean_list = parse_input(dirty_list)\n",
        "max_colors_all_games = compare_max_colors_all_games(clean_list)\n",
        "final_count = sum(product_list)\n",
        "\n",
        "\n",
        "product_list = [entry['red'] * entry['green'] * entry['blue'] for entry in max_colors_all_games]\n",
        "\n",
        "print(final_count)\n",
        "\n",
        "\n"
      ]
    },
    {
      "cell_type": "code",
      "source": [],
      "metadata": {
        "id": "esWhbUM64vWp"
      },
      "execution_count": null,
      "outputs": []
    }
  ]
}