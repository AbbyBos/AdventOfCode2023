{
  "nbformat": 4,
  "nbformat_minor": 0,
  "metadata": {
    "colab": {
      "provenance": [],
      "authorship_tag": "ABX9TyOm+V+L3nwp5TCGaSRM1oo3",
      "include_colab_link": true
    },
    "kernelspec": {
      "name": "python3",
      "display_name": "Python 3"
    },
    "language_info": {
      "name": "python"
    }
  },
  "cells": [
    {
      "cell_type": "markdown",
      "metadata": {
        "id": "view-in-github",
        "colab_type": "text"
      },
      "source": [
        "<a href=\"https://colab.research.google.com/github/AbbyBos/AdventOfCode2023/blob/main/Advent_of_Code_Day_1.ipynb\" target=\"_parent\"><img src=\"https://colab.research.google.com/assets/colab-badge.svg\" alt=\"Open In Colab\"/></a>"
      ]
    },
    {
      "cell_type": "code",
      "execution_count": null,
      "metadata": {
        "colab": {
          "base_uri": "https://localhost:8080/"
        },
        "id": "Ifra7xXAg7K7",
        "outputId": "31929606-cad1-4ce1-f808-c18f8badb5fe"
      },
      "outputs": [
        {
          "output_type": "stream",
          "name": "stdout",
          "text": [
            "Mounted at /content/drive\n"
          ]
        }
      ],
      "source": [
        "from google.colab import drive\n",
        "drive.mount('/content/drive')"
      ]
    },
    {
      "cell_type": "code",
      "source": [],
      "metadata": {
        "id": "Pv_RBD2_jt-q"
      },
      "execution_count": null,
      "outputs": []
    },
    {
      "cell_type": "code",
      "source": [
        "/content/drive/MyDrive/Advent of Code/Day1.txt"
      ],
      "metadata": {
        "colab": {
          "base_uri": "https://localhost:8080/",
          "height": 181
        },
        "id": "vmrVv0vBkPuB",
        "outputId": "8ca17137-bce5-4c72-c446-a6f2f961c309"
      },
      "execution_count": null,
      "outputs": [
        {
          "output_type": "error",
          "ename": "NameError",
          "evalue": "ignored",
          "traceback": [
            "\u001b[0;31m---------------------------------------------------------------------------\u001b[0m",
            "\u001b[0;31mNameError\u001b[0m                                 Traceback (most recent call last)",
            "\u001b[0;32m<ipython-input-7-6544a9447dca>\u001b[0m in \u001b[0;36m<cell line: 1>\u001b[0;34m()\u001b[0m\n\u001b[0;32m----> 1\u001b[0;31m \u001b[0mcontent\u001b[0m\u001b[0;34m/\u001b[0m\u001b[0mdrive\u001b[0m\u001b[0;34m/\u001b[0m\u001b[0mMyDrive\u001b[0m\u001b[0;34m/\u001b[0m\u001b[0mAdvent\u001b[0m\u001b[0;34m(\u001b[0m\u001b[0mof\u001b[0m\u001b[0;34m,\u001b[0m \u001b[0mCode\u001b[0m\u001b[0;34m/\u001b[0m\u001b[0mDay1\u001b[0m\u001b[0;34m.\u001b[0m\u001b[0mtxt\u001b[0m\u001b[0;34m)\u001b[0m\u001b[0;34m\u001b[0m\u001b[0;34m\u001b[0m\u001b[0m\n\u001b[0m",
            "\u001b[0;31mNameError\u001b[0m: name 'content' is not defined"
          ]
        }
      ]
    },
    {
      "cell_type": "code",
      "source": [
        "import re\n",
        "\n",
        "\n",
        "##dictonairy of number translations\n",
        "number_words = {\n",
        "    'one': '1',\n",
        "    'two': '2',\n",
        "    'three': '3',\n",
        "    'four': '4',\n",
        "    'five': '5',\n",
        "    'six': '6',\n",
        "    'seven': '7',\n",
        "    'eight': '8',\n",
        "    'nine': '9',\n",
        "}\n",
        "\n",
        "##normalisation of numberwords to numbers\n",
        "def perform_replacement(s, number_words):\n",
        "    replace_index_last = []\n",
        "    replace_index_first = []\n",
        "    index_words_last = []\n",
        "    index_words_first = []\n",
        "    check = len(s)\n",
        "\n",
        "##look for the inverse of the words to find the one most right of the string\n",
        "    for word in number_words.keys():\n",
        "      word_inverse = word[::-1]\n",
        "      s_inverse = s[::-1]\n",
        "      i_inverse = s_inverse.find(word_inverse)\n",
        "      if i_inverse >= 0:\n",
        "        replace_index_last.append(i_inverse)\n",
        "        index_words_last.append(word_inverse[::-1])\n",
        "\n",
        "## store two lists for all the found words and their corresponding values\n",
        "    for word in number_words.keys():\n",
        "      i = s.find(word)\n",
        "      if i >= 0:\n",
        "        replace_index_first.append(i)\n",
        "        index_words_first.append(word)\n",
        "\n",
        "## return value to list if no wordnumbers are found\n",
        "    if not replace_index_last:\n",
        "      return str(s)\n",
        "\n",
        "## replace the most right number first\n",
        "    else:\n",
        "      hoogste = min(replace_index_last)\n",
        "      oldvalue_hoog = index_words_last[replace_index_last.index(hoogste)]\n",
        "      newvalue_hoog = number_words.get(oldvalue_hoog)\n",
        "      s_inverse = s_inverse[:hoogste] + newvalue_hoog + s_inverse[hoogste:]\n",
        "      s = s_inverse[::-1]\n",
        "\n",
        "## if there is only one numberword found return string to list\n",
        "      if check == (len(index_words_last[replace_index_last.index(hoogste)]) + min(replace_index_first)):\n",
        "        return s\n",
        "\n",
        "## replace the most left number if relevant\n",
        "      else:\n",
        "       laagste = min(replace_index_first)\n",
        "       oldvalue_laag = index_words_first[replace_index_first.index(laagste)]\n",
        "       newvalue_laag = number_words.get(oldvalue_laag)\n",
        "       s = s[:laagste] + newvalue_laag + s[laagste:]\n",
        "       return s\n",
        "\n",
        "## extract the digit's from the cleaned list\n",
        "def extract_digits(s):\n",
        "    numbers = re.findall(r'\\d', s)  # Find all numeric substrings\n",
        "    if numbers:\n",
        "        first_number = int(numbers[0])\n",
        "        last_number = int(numbers[-1])\n",
        "        return int(str(first_number) + str(last_number))\n",
        "\n",
        "## import file with dirty list from google drive.\n",
        "with open('/content/drive/MyDrive/Advent of Code/abby.txt', 'r') as file:\n",
        "    lines = file.readlines()\n",
        "\n",
        "## import list from file\n",
        "my_list = [line.strip() for line in lines]\n",
        "\n",
        "## cleanup data\n",
        "normalized_list = [perform_replacement(s, number_words) for s in my_list]\n",
        "\n",
        "## fetch digits\n",
        "result_list = [extract_digits(s) for s in normalized_list]\n",
        "\n",
        "#profit\n",
        "print(sum(result_list))\n",
        "\n"
      ],
      "metadata": {
        "colab": {
          "base_uri": "https://localhost:8080/"
        },
        "id": "f_MJz84mkT15",
        "outputId": "a3784b29-8a37-45fb-dbfd-830cf8a6006c"
      },
      "execution_count": null,
      "outputs": [
        {
          "output_type": "stream",
          "name": "stdout",
          "text": [
            "54473\n"
          ]
        }
      ]
    },
    {
      "cell_type": "code",
      "source": [
        "s = '123one45'\n",
        "\n",
        "index = s.find('one')\n",
        "\n",
        "print(index)"
      ],
      "metadata": {
        "colab": {
          "base_uri": "https://localhost:8080/"
        },
        "id": "9KC7yTyJlPpX",
        "outputId": "13514750-f4b2-4727-9b18-5d309cca2819"
      },
      "execution_count": null,
      "outputs": [
        {
          "output_type": "stream",
          "name": "stdout",
          "text": [
            "3\n"
          ]
        }
      ]
    },
    {
      "cell_type": "code",
      "source": [
        "s = 'eight'\n",
        "\n",
        "perform_replacement(s, number_words)\n"
      ],
      "metadata": {
        "colab": {
          "base_uri": "https://localhost:8080/",
          "height": 126
        },
        "id": "bvz_Y7nTG5ov",
        "outputId": "48984b97-f008-4d82-ce75-4a075bc171d3"
      },
      "execution_count": null,
      "outputs": [
        {
          "output_type": "stream",
          "name": "stdout",
          "text": [
            "['eight'] [0]\n",
            "['eight'] [0]\n",
            "check:  5\n",
            "word length 5\n",
            "single eight8\n"
          ]
        },
        {
          "output_type": "execute_result",
          "data": {
            "text/plain": [
              "'eight8'"
            ],
            "application/vnd.google.colaboratory.intrinsic+json": {
              "type": "string"
            }
          },
          "metadata": {},
          "execution_count": 451
        }
      ]
    }
  ]
}