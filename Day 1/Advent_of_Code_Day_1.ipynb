{
  "nbformat": 4,
  "nbformat_minor": 0,
  "metadata": {
    "colab": {
      "provenance": [],
      "authorship_tag": "ABX9TyMWJbbf1YGM+9O/82BIpi1D",
      "include_colab_link": true
    },
    "kernelspec": {
      "name": "python3",
      "display_name": "Python 3"
    },
    "language_info": {
      "name": "python"
    }
  },
  "cells": [
    {
      "cell_type": "markdown",
      "metadata": {
        "id": "view-in-github",
        "colab_type": "text"
      },
      "source": [
        "<a href=\"https://colab.research.google.com/github/AbbyBos/AdventOfCode2023/blob/main/Day%201/Advent_of_Code_Day_1.ipynb\" target=\"_parent\"><img src=\"https://colab.research.google.com/assets/colab-badge.svg\" alt=\"Open In Colab\"/></a>"
      ]
    },
    {
      "cell_type": "code",
      "source": [
        "from google.colab import drive\n",
        "drive.mount('/content/drive')\n",
        "\n",
        "import re\n",
        "\n",
        "\n",
        "##dictonairy of number translations\n",
        "number_words = {\n",
        "    'one': '1',\n",
        "    'two': '2',\n",
        "    'three': '3',\n",
        "    'four': '4',\n",
        "    'five': '5',\n",
        "    'six': '6',\n",
        "    'seven': '7',\n",
        "    'eight': '8',\n",
        "    'nine': '9',\n",
        "}\n",
        "\n",
        "##normalisation of numberwords to numbers\n",
        "def perform_replacement(s, number_words):\n",
        "    replace_index_last = []\n",
        "    replace_index_first = []\n",
        "    index_words_last = []\n",
        "    index_words_first = []\n",
        "    check = len(s)\n",
        "\n",
        "##look for the inverse of the words to find the one most right of the string\n",
        "    for word in number_words.keys():\n",
        "      word_inverse = word[::-1]\n",
        "      s_inverse = s[::-1]\n",
        "      i_inverse = s_inverse.find(word_inverse)\n",
        "      if i_inverse >= 0:\n",
        "        replace_index_last.append(i_inverse)\n",
        "        index_words_last.append(word_inverse[::-1])\n",
        "\n",
        "## store two lists for all the found words and their corresponding values\n",
        "    for word in number_words.keys():\n",
        "      i = s.find(word)\n",
        "      if i >= 0:\n",
        "        replace_index_first.append(i)\n",
        "        index_words_first.append(word)\n",
        "\n",
        "## return value to list if no wordnumbers are found\n",
        "    if not replace_index_last:\n",
        "      return str(s)\n",
        "\n",
        "## replace the most right number first\n",
        "    else:\n",
        "      hoogste = min(replace_index_last)\n",
        "      oldvalue_hoog = index_words_last[replace_index_last.index(hoogste)]\n",
        "      newvalue_hoog = number_words.get(oldvalue_hoog)\n",
        "      s_inverse = s_inverse[:hoogste] + newvalue_hoog + s_inverse[hoogste:]\n",
        "      s = s_inverse[::-1]\n",
        "\n",
        "## if there is only one numberword found return string to list\n",
        "      if check == (len(index_words_last[replace_index_last.index(hoogste)]) + min(replace_index_first)):\n",
        "        return s\n",
        "\n",
        "## replace the most left number if relevant\n",
        "      else:\n",
        "       laagste = min(replace_index_first)\n",
        "       oldvalue_laag = index_words_first[replace_index_first.index(laagste)]\n",
        "       newvalue_laag = number_words.get(oldvalue_laag)\n",
        "       s = s[:laagste] + newvalue_laag + s[laagste:]\n",
        "       return s\n",
        "\n",
        "## extract the digit's from the cleaned list\n",
        "def extract_digits(s):\n",
        "    numbers = re.findall(r'\\d', s)  # Find all numeric substrings\n",
        "    if numbers:\n",
        "        first_number = int(numbers[0])\n",
        "        last_number = int(numbers[-1])\n",
        "        return int(str(first_number) + str(last_number))\n",
        "\n",
        "## import file with dirty list from google drive.\n",
        "with open('/content/drive/MyDrive/Advent of Code/day1.txt', 'r') as file:\n",
        "    lines = file.readlines()\n",
        "\n",
        "## import list from file\n",
        "my_list = [line.strip() for line in lines]\n",
        "\n",
        "## cleanup data\n",
        "normalized_list = [perform_replacement(s, number_words) for s in my_list]\n",
        "\n",
        "## fetch digits\n",
        "result_list = [extract_digits(s) for s in normalized_list]\n",
        "\n",
        "#profit\n",
        "print(sum(result_list))\n",
        "\n"
      ],
      "metadata": {
        "colab": {
          "base_uri": "https://localhost:8080/"
        },
        "id": "f_MJz84mkT15",
        "outputId": "75b8d697-21a9-4d20-c2f4-44b1ace46e57"
      },
      "execution_count": null,
      "outputs": [
        {
          "output_type": "stream",
          "name": "stdout",
          "text": [
            "Mounted at /content/drive\n",
            "54473\n"
          ]
        }
      ]
    }
  ]
}